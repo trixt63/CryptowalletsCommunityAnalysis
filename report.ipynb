{
 "cells": [
  {
   "cell_type": "code",
   "execution_count": 7,
   "metadata": {
    "ExecuteTime": {
     "end_time": "2023-05-16T02:26:30.824522616Z",
     "start_time": "2023-05-16T02:26:30.726136860Z"
    },
    "collapsed": true
   },
   "outputs": [],
   "source": [
    "import json\n",
    "import pandas as pd\n",
    "import seaborn as sns\n",
    "from databases.mongodb import MongoDB\n",
    "\n",
    "with open('./artifacts/centralized_exchange_addresses.json', 'r') as f:\n",
    "    cex_hot_wallets = json.load(f)\n",
    "\n",
    "dexes = [\"pancakeswap\", \"spookyswap\"]\n",
    "lending_pools = ['aave', 'venus', 'trava', 'cream', 'valas', 'compound', 'geist', 'pool_aave', 'pool_venus', 'pool_trava', 'pool_cream', 'pool_valas', 'pool_compound', 'pool_geist']\n",
    "lending_pools_0 = ['aave', 'venus', 'trava', 'cream', 'valas', 'compound', 'geist']\n",
    "\n",
    "chain_ids = ['0x38', '0x1', '0xfa', '0x89']\n",
    "\n",
    "mongodb = MongoDB()\n"
   ]
  },
  {
   "attachments": {},
   "cell_type": "markdown",
   "metadata": {
    "collapsed": false
   },
   "source": [
    "## Lending pools"
   ]
  },
  {
   "cell_type": "code",
   "execution_count": 8,
   "metadata": {
    "ExecuteTime": {
     "end_time": "2023-05-16T02:07:42.318723892Z",
     "start_time": "2023-05-16T02:07:39.896441376Z"
    },
    "collapsed": false
   },
   "outputs": [
    {
     "name": "stdout",
     "output_type": "stream",
     "text": [
      "aave: 0\n",
      "venus: 0\n",
      "trava: 0\n",
      "cream: 0\n",
      "valas: 0\n",
      "compound: 0\n",
      "geist: 0\n"
     ]
    }
   ],
   "source": [
    "lending_pools = ['aave', 'venus', 'trava', 'cream', 'valas', 'compound', 'geist', 'pool_aave', 'pool_venus', 'pool_trava', 'pool_cream', 'pool_valas', 'pool_compound', 'pool_geist']\n",
    "lending_pools_0 = ['aave', 'venus', 'trava', 'cream', 'valas', 'compound', 'geist']\n",
    "pools_count_dict = {pool: mongodb.count_wallets({f\"lendingpools.{pool}\": {\"$exists\": True}})\n",
    "                    for pool in lending_pools}\n",
    "pools_count = {pool_id: pools_count_dict[pool_id] + pools_count_dict['pool_'+pool_id] for pool_id in lending_pools_0}\n",
    "for pool_id, pool_count in pools_count.items():\n",
    "    print(f\"{pool_id}: {pool_count}\")"
   ]
  },
  {
   "cell_type": "code",
   "execution_count": 9,
   "metadata": {},
   "outputs": [
    {
     "name": "stdout",
     "output_type": "stream",
     "text": [
      "0\n",
      "0\n",
      "0\n",
      "0\n",
      "0\n",
      "0\n",
      "0\n",
      "0\n",
      "0\n",
      "0\n",
      "0\n",
      "0\n",
      "0\n",
      "0\n",
      "0\n",
      "0\n",
      "0\n",
      "0\n",
      "0\n",
      "0\n",
      "0\n",
      "0\n",
      "0\n",
      "0\n",
      "0\n",
      "0\n",
      "0\n",
      "0\n",
      "0\n",
      "0\n",
      "0\n",
      "0\n",
      "0\n",
      "0\n",
      "0\n",
      "0\n",
      "0\n",
      "0\n",
      "0\n",
      "0\n",
      "0\n",
      "0\n",
      "0\n",
      "0\n",
      "0\n",
      "0\n",
      "0\n",
      "0\n",
      "0\n",
      "0\n",
      "0\n",
      "0\n",
      "0\n",
      "0\n",
      "0\n",
      "0\n"
     ]
    }
   ],
   "source": [
    "for lending in lending_pools:\n",
    "    for chain_id in chain_ids:\n",
    "        c = mongodb.count_deployed_chains_of_project('lendingpools', lending, chain_id)\n",
    "        print(f\"{lending}: {chain_id}: {c}\")"
   ]
  },
  {
   "attachments": {},
   "cell_type": "markdown",
   "metadata": {
    "collapsed": false
   },
   "source": [
    "## Dex Traders"
   ]
  },
  {
   "cell_type": "code",
   "execution_count": 3,
   "metadata": {
    "ExecuteTime": {
     "end_time": "2023-05-16T02:26:35.302782615Z",
     "start_time": "2023-05-16T02:26:35.281835652Z"
    },
    "collapsed": false
   },
   "outputs": [
    {
     "name": "stdout",
     "output_type": "stream",
     "text": [
      "pancakeswap: 18039\n",
      "spookyswap: 16275\n"
     ]
    }
   ],
   "source": [
    "c = MongoDB().count_deployed_chains_of_project('lendingpools', 'venus', '0x38')\n",
    "dexes = [\"pancakeswap\", \"spookyswap\"]\n",
    "for dex in dexes:\n",
    "    _filter = {f\"tradedlps.{dex}\": {\"$exists\": 1}}\n",
    "    print(f\"{dex}: {mongodb.count_wallets(_filter)}\")"
   ]
  }
 ],
 "metadata": {
  "kernelspec": {
   "display_name": "venv",
   "language": "python",
   "name": "venv"
  },
  "language_info": {
   "codemirror_mode": {
    "name": "ipython",
    "version": 3
   },
   "file_extension": ".py",
   "mimetype": "text/x-python",
   "name": "python",
   "nbconvert_exporter": "python",
   "pygments_lexer": "ipython3",
   "version": "3.10.10"
  }
 },
 "nbformat": 4,
 "nbformat_minor": 0
}
