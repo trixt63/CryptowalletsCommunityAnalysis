{
 "cells": [
  {
   "cell_type": "code",
   "execution_count": 1,
   "metadata": {
    "ExecuteTime": {
     "end_time": "2023-05-16T02:26:30.824522616Z",
     "start_time": "2023-05-16T02:26:30.726136860Z"
    },
    "collapsed": true
   },
   "outputs": [],
   "source": [
    "import json\n",
    "import pandas as pd\n",
    "import seaborn as sns\n",
    "from databases.mongodb import MongoDB\n",
    "from databases.blockchain_etl import BlockchainETL\n",
    "from databases.postgresql import PostgresDB\n",
    "from copy import deepcopy\n",
    "from itertools import combinations\n",
    "\n",
    "DB_PREFIX = ''\n",
    "with open('./artifacts/centralized_exchange_addresses.json', 'r') as f:\n",
    "    cex_hot_wallets = json.load(f)\n",
    "\n",
    "\n",
    "cexes = ['binance', 'coinbase-exchange', 'kucoin', 'bitfinex', 'crypto-com-exchange', 'huobi', 'bybit', 'gate-io', 'binance-us', 'okx', 'mxc', 'bilaxy']\n",
    "dexes = [\"pancakeswap\", \"spookyswap\"]\n",
    "lending_pools_0 = ['aave', 'venus', 'trava', 'cream', 'valas', 'compound', 'geist']\n",
    "\n",
    "chain_ids = ['0x38', '0x1', '0xfa', '0x89']\n",
    "chain_names = ['BSC', 'Ethereum', 'Fantom', \"Polygon\"]\n",
    "\n",
    "mongodb = MongoDB()\n",
    "blockchain_etl = BlockchainETL(db_prefix=DB_PREFIX)\n",
    "postgres = PostgresDB()"
   ]
  },
  {
   "attachments": {},
   "cell_type": "markdown",
   "metadata": {
    "collapsed": false
   },
   "source": [
    "## Lending pools"
   ]
  },
  {
   "attachments": {},
   "cell_type": "markdown",
   "metadata": {},
   "source": [
    "Get number of lending wallets of each lending pool and on each chain"
   ]
  },
  {
   "cell_type": "code",
   "execution_count": 2,
   "metadata": {},
   "outputs": [
    {
     "name": "stdout",
     "output_type": "stream",
     "text": [
      "{'aave': [72175, 0, 70233, 0, 1942], 'venus': [75445, 75445, 0, 0, 0], 'trava': [4400, 705, 3488, 207, 0], 'cream': [2652, 1908, 0, 744, 0], 'valas': [2154, 2154, 0, 0, 0], 'compound': [195123, 0, 195123, 0, 0], 'geist': [21857, 0, 0, 21857, 0]}\n"
     ]
    },
    {
     "data": {
      "text/html": [
       "<div>\n",
       "<style scoped>\n",
       "    .dataframe tbody tr th:only-of-type {\n",
       "        vertical-align: middle;\n",
       "    }\n",
       "\n",
       "    .dataframe tbody tr th {\n",
       "        vertical-align: top;\n",
       "    }\n",
       "\n",
       "    .dataframe thead th {\n",
       "        text-align: right;\n",
       "    }\n",
       "</style>\n",
       "<table border=\"1\" class=\"dataframe\">\n",
       "  <thead>\n",
       "    <tr style=\"text-align: right;\">\n",
       "      <th></th>\n",
       "      <th>sum</th>\n",
       "      <th>BSC</th>\n",
       "      <th>Ethereum</th>\n",
       "      <th>Fantom</th>\n",
       "      <th>Polygon</th>\n",
       "    </tr>\n",
       "  </thead>\n",
       "  <tbody>\n",
       "    <tr>\n",
       "      <th>aave</th>\n",
       "      <td>72175</td>\n",
       "      <td>0</td>\n",
       "      <td>70233</td>\n",
       "      <td>0</td>\n",
       "      <td>1942</td>\n",
       "    </tr>\n",
       "    <tr>\n",
       "      <th>venus</th>\n",
       "      <td>75445</td>\n",
       "      <td>75445</td>\n",
       "      <td>0</td>\n",
       "      <td>0</td>\n",
       "      <td>0</td>\n",
       "    </tr>\n",
       "    <tr>\n",
       "      <th>trava</th>\n",
       "      <td>4400</td>\n",
       "      <td>705</td>\n",
       "      <td>3488</td>\n",
       "      <td>207</td>\n",
       "      <td>0</td>\n",
       "    </tr>\n",
       "    <tr>\n",
       "      <th>cream</th>\n",
       "      <td>2652</td>\n",
       "      <td>1908</td>\n",
       "      <td>0</td>\n",
       "      <td>744</td>\n",
       "      <td>0</td>\n",
       "    </tr>\n",
       "    <tr>\n",
       "      <th>valas</th>\n",
       "      <td>2154</td>\n",
       "      <td>2154</td>\n",
       "      <td>0</td>\n",
       "      <td>0</td>\n",
       "      <td>0</td>\n",
       "    </tr>\n",
       "    <tr>\n",
       "      <th>compound</th>\n",
       "      <td>195123</td>\n",
       "      <td>0</td>\n",
       "      <td>195123</td>\n",
       "      <td>0</td>\n",
       "      <td>0</td>\n",
       "    </tr>\n",
       "    <tr>\n",
       "      <th>geist</th>\n",
       "      <td>21857</td>\n",
       "      <td>0</td>\n",
       "      <td>0</td>\n",
       "      <td>21857</td>\n",
       "      <td>0</td>\n",
       "    </tr>\n",
       "  </tbody>\n",
       "</table>\n",
       "</div>"
      ],
      "text/plain": [
       "             sum    BSC  Ethereum  Fantom  Polygon\n",
       "aave       72175      0     70233       0     1942\n",
       "venus      75445  75445         0       0        0\n",
       "trava       4400    705      3488     207        0\n",
       "cream       2652   1908         0     744        0\n",
       "valas       2154   2154         0       0        0\n",
       "compound  195123      0    195123       0        0\n",
       "geist      21857      0         0   21857        0"
      ]
     },
     "execution_count": 2,
     "metadata": {},
     "output_type": "execute_result"
    }
   ],
   "source": [
    "data = {}\n",
    "columns = []\n",
    "\n",
    "for lending in lending_pools_0:\n",
    "    data[lending] = []\n",
    "\n",
    "    for chain_id in chain_ids:\n",
    "        c = mongodb.count_deployed_chains_of_project('lendingpools', lending, chain_id)\n",
    "        c += mongodb.count_deployed_chains_of_project('lendingpools', 'pool_' + lending, chain_id)\n",
    "        data[lending].append(c)\n",
    "    _filter_1 = {f\"lendingpools.{lending}\": {\"$exists\": True}}\n",
    "    _filter_2 = {f\"lendingpools.pool_{lending}\": {\"$exists\": True}}\n",
    "    sum = mongodb.count_wallets(_filter_1) + mongodb.count_wallets(_filter_2)\n",
    "    data[lending].append(sum)\n",
    "\n",
    "columns=deepcopy(chain_names)\n",
    "columns.insert(0, 'sum')\n",
    "print(data)\n",
    "df = pd.DataFrame.from_dict(data, orient='index', columns=columns)\n",
    "df"
   ]
  },
  {
   "cell_type": "code",
   "execution_count": 12,
   "metadata": {},
   "outputs": [
    {
     "name": "stdout",
     "output_type": "stream",
     "text": [
      "['0x38', '0x1', '0xfa', '0x89', 'sum']\n",
      "{'aave': [0, 70233, 0, 1942, 0, 0, 0, 72175], 'venus': [75446, 0, 0, 0, 0, 0, 0, 75446], 'trava': [705, 3488, 207, 0, 0, 0, 0, 4400], 'cream': [1908, 0, 744, 0, 0, 0, 0, 2652], 'valas': [2154, 0, 0, 0, 0, 0, 0, 2154], 'compound': [0, 195123, 0, 0, 0, 0, 0, 195123], 'geist': [0, 0, 21857, 0, 0, 0, 0, 21857]}\n"
     ]
    }
   ],
   "source": [
    "print(columns)\n",
    "print(data)"
   ]
  },
  {
   "attachments": {},
   "cell_type": "markdown",
   "metadata": {},
   "source": [
    "## Deposit wallets"
   ]
  },
  {
   "cell_type": "code",
   "execution_count": 5,
   "metadata": {},
   "outputs": [
    {
     "name": "stdout",
     "output_type": "stream",
     "text": [
      "{'binance': [2610363, 3045233, 0, 0, 5040303], 'coinbase-exchange': [0, 2698378, 0, 0, 2698378], 'kucoin': [0, 1268972, 0, 0, 1268972], 'bitfinex': [0, 14979, 1088, 2130, 17974], 'crypto-com-exchange': [15250, 1101779, 9869, 68254, 1143158], 'huobi': [0, 213019, 0, 29694, 240667], 'bybit': [247029, 382956, 0, 61142, 614871], 'gate-io': [150176, 179221, 11187, 45011, 352828], 'binance-us': [0, 139271, 0, 0, 139271], 'okx': [0, 417555, 0, 227628, 613912], 'mxc': [287189, 213882, 0, 0, 481691], 'bilaxy': [0, 0, 0, 0, 0]}\n",
      "['BSC', 'Ethereum', 'Fantom', 'Polygon', 'total']\n"
     ]
    }
   ],
   "source": [
    "data = {}\n",
    "\n",
    "for cex in cexes:\n",
    "    data[cex] = []\n",
    "    for chain_id in chain_ids:\n",
    "        c = mongodb.count_exchange_deposit_wallets_each_chain('depositedExchanges', cex, chain_id)\n",
    "        data[cex].append(c)\n",
    "    # total number of wallets on all chains\n",
    "    _filter = {f\"depositedExchanges.{cex}\": {\"$exists\": 1}}\n",
    "    _count = mongodb.count_wallets(_filter)\n",
    "    data[cex].append(_count)\n",
    "\n",
    "columns = deepcopy(chain_names)\n",
    "columns.append('total')\n",
    "print(data)\n",
    "print(columns)"
   ]
  },
  {
   "cell_type": "code",
   "execution_count": 6,
   "metadata": {},
   "outputs": [
    {
     "name": "stdout",
     "output_type": "stream",
     "text": [
      "{'binance': [2610363, 3045233, 0, 0, 5040303], 'coinbase-exchange': [0, 2698378, 0, 0, 2698378], 'kucoin': [0, 1268972, 0, 0, 1268972], 'bitfinex': [0, 14979, 1088, 2130, 17974], 'crypto-com-exchange': [15250, 1101779, 9869, 68254, 1143158], 'huobi': [0, 213019, 0, 29694, 240667], 'bybit': [247029, 382956, 0, 61142, 614871], 'gate-io': [150176, 179221, 11187, 45011, 352828], 'binance-us': [0, 139271, 0, 0, 139271], 'okx': [0, 417555, 0, 227628, 613912], 'mxc': [287189, 213882, 0, 0, 481691], 'bilaxy': [0, 0, 0, 0, 0]}\n",
      "['BSC', 'Ethereum', 'Fantom', 'Polygon', 'total']\n"
     ]
    },
    {
     "data": {
      "text/html": [
       "<div>\n",
       "<style scoped>\n",
       "    .dataframe tbody tr th:only-of-type {\n",
       "        vertical-align: middle;\n",
       "    }\n",
       "\n",
       "    .dataframe tbody tr th {\n",
       "        vertical-align: top;\n",
       "    }\n",
       "\n",
       "    .dataframe thead th {\n",
       "        text-align: right;\n",
       "    }\n",
       "</style>\n",
       "<table border=\"1\" class=\"dataframe\">\n",
       "  <thead>\n",
       "    <tr style=\"text-align: right;\">\n",
       "      <th></th>\n",
       "      <th>BSC</th>\n",
       "      <th>Ethereum</th>\n",
       "      <th>Fantom</th>\n",
       "      <th>Polygon</th>\n",
       "      <th>total</th>\n",
       "    </tr>\n",
       "  </thead>\n",
       "  <tbody>\n",
       "    <tr>\n",
       "      <th>binance</th>\n",
       "      <td>2610363</td>\n",
       "      <td>3045233</td>\n",
       "      <td>0</td>\n",
       "      <td>0</td>\n",
       "      <td>5040303</td>\n",
       "    </tr>\n",
       "    <tr>\n",
       "      <th>coinbase-exchange</th>\n",
       "      <td>0</td>\n",
       "      <td>2698378</td>\n",
       "      <td>0</td>\n",
       "      <td>0</td>\n",
       "      <td>2698378</td>\n",
       "    </tr>\n",
       "    <tr>\n",
       "      <th>kucoin</th>\n",
       "      <td>0</td>\n",
       "      <td>1268972</td>\n",
       "      <td>0</td>\n",
       "      <td>0</td>\n",
       "      <td>1268972</td>\n",
       "    </tr>\n",
       "    <tr>\n",
       "      <th>bitfinex</th>\n",
       "      <td>0</td>\n",
       "      <td>14979</td>\n",
       "      <td>1088</td>\n",
       "      <td>2130</td>\n",
       "      <td>17974</td>\n",
       "    </tr>\n",
       "    <tr>\n",
       "      <th>crypto-com-exchange</th>\n",
       "      <td>15250</td>\n",
       "      <td>1101779</td>\n",
       "      <td>9869</td>\n",
       "      <td>68254</td>\n",
       "      <td>1143158</td>\n",
       "    </tr>\n",
       "    <tr>\n",
       "      <th>huobi</th>\n",
       "      <td>0</td>\n",
       "      <td>213019</td>\n",
       "      <td>0</td>\n",
       "      <td>29694</td>\n",
       "      <td>240667</td>\n",
       "    </tr>\n",
       "    <tr>\n",
       "      <th>bybit</th>\n",
       "      <td>247029</td>\n",
       "      <td>382956</td>\n",
       "      <td>0</td>\n",
       "      <td>61142</td>\n",
       "      <td>614871</td>\n",
       "    </tr>\n",
       "    <tr>\n",
       "      <th>gate-io</th>\n",
       "      <td>150176</td>\n",
       "      <td>179221</td>\n",
       "      <td>11187</td>\n",
       "      <td>45011</td>\n",
       "      <td>352828</td>\n",
       "    </tr>\n",
       "    <tr>\n",
       "      <th>binance-us</th>\n",
       "      <td>0</td>\n",
       "      <td>139271</td>\n",
       "      <td>0</td>\n",
       "      <td>0</td>\n",
       "      <td>139271</td>\n",
       "    </tr>\n",
       "    <tr>\n",
       "      <th>okx</th>\n",
       "      <td>0</td>\n",
       "      <td>417555</td>\n",
       "      <td>0</td>\n",
       "      <td>227628</td>\n",
       "      <td>613912</td>\n",
       "    </tr>\n",
       "    <tr>\n",
       "      <th>mxc</th>\n",
       "      <td>287189</td>\n",
       "      <td>213882</td>\n",
       "      <td>0</td>\n",
       "      <td>0</td>\n",
       "      <td>481691</td>\n",
       "    </tr>\n",
       "    <tr>\n",
       "      <th>bilaxy</th>\n",
       "      <td>0</td>\n",
       "      <td>0</td>\n",
       "      <td>0</td>\n",
       "      <td>0</td>\n",
       "      <td>0</td>\n",
       "    </tr>\n",
       "  </tbody>\n",
       "</table>\n",
       "</div>"
      ],
      "text/plain": [
       "                         BSC  Ethereum  Fantom  Polygon    total\n",
       "binance              2610363   3045233       0        0  5040303\n",
       "coinbase-exchange          0   2698378       0        0  2698378\n",
       "kucoin                     0   1268972       0        0  1268972\n",
       "bitfinex                   0     14979    1088     2130    17974\n",
       "crypto-com-exchange    15250   1101779    9869    68254  1143158\n",
       "huobi                      0    213019       0    29694   240667\n",
       "bybit                 247029    382956       0    61142   614871\n",
       "gate-io               150176    179221   11187    45011   352828\n",
       "binance-us                 0    139271       0        0   139271\n",
       "okx                        0    417555       0   227628   613912\n",
       "mxc                   287189    213882       0        0   481691\n",
       "bilaxy                     0         0       0        0        0"
      ]
     },
     "execution_count": 6,
     "metadata": {},
     "output_type": "execute_result"
    }
   ],
   "source": [
    "print(data)\n",
    "print(columns)\n",
    "df = pd.DataFrame.from_dict(data, orient='index', columns=columns)\n",
    "df\n"
   ]
  },
  {
   "cell_type": "code",
   "execution_count": 5,
   "metadata": {},
   "outputs": [
    {
     "ename": "KeyboardInterrupt",
     "evalue": "",
     "output_type": "error",
     "traceback": [
      "\u001b[0;31m---------------------------------------------------------------------------\u001b[0m",
      "\u001b[0;31mKeyboardInterrupt\u001b[0m                         Traceback (most recent call last)",
      "Cell \u001b[0;32mIn[5], line 10\u001b[0m\n\u001b[1;32m      7\u001b[0m \u001b[39m# _count = mongodb.count_wallets(_filter)\u001b[39;00m\n\u001b[1;32m      8\u001b[0m \u001b[39m# print(f'{_pair}: {_count}')\u001b[39;00m\n\u001b[1;32m      9\u001b[0m data \u001b[39m=\u001b[39m mongodb\u001b[39m.\u001b[39mget_wallets(_filter)\n\u001b[0;32m---> 10\u001b[0m \u001b[39mfor\u001b[39;00m datum \u001b[39min\u001b[39;00m data:\n\u001b[1;32m     11\u001b[0m     addr \u001b[39m=\u001b[39m datum[\u001b[39m'\u001b[39m\u001b[39maddress\u001b[39m\u001b[39m'\u001b[39m]\n",
      "File \u001b[0;32m~/Tovchain/Report/venv/lib64/python3.10/site-packages/pymongo/cursor.py:1248\u001b[0m, in \u001b[0;36mCursor.next\u001b[0;34m(self)\u001b[0m\n\u001b[1;32m   1246\u001b[0m \u001b[39mif\u001b[39;00m \u001b[39mself\u001b[39m\u001b[39m.\u001b[39m__empty:\n\u001b[1;32m   1247\u001b[0m     \u001b[39mraise\u001b[39;00m \u001b[39mStopIteration\u001b[39;00m\n\u001b[0;32m-> 1248\u001b[0m \u001b[39mif\u001b[39;00m \u001b[39mlen\u001b[39m(\u001b[39mself\u001b[39m\u001b[39m.\u001b[39m__data) \u001b[39mor\u001b[39;00m \u001b[39mself\u001b[39;49m\u001b[39m.\u001b[39;49m_refresh():\n\u001b[1;32m   1249\u001b[0m     \u001b[39mreturn\u001b[39;00m \u001b[39mself\u001b[39m\u001b[39m.\u001b[39m__data\u001b[39m.\u001b[39mpopleft()\n\u001b[1;32m   1250\u001b[0m \u001b[39melse\u001b[39;00m:\n",
      "File \u001b[0;32m~/Tovchain/Report/venv/lib64/python3.10/site-packages/pymongo/cursor.py:1165\u001b[0m, in \u001b[0;36mCursor._refresh\u001b[0;34m(self)\u001b[0m\n\u001b[1;32m   1143\u001b[0m         \u001b[39mraise\u001b[39;00m InvalidOperation(\n\u001b[1;32m   1144\u001b[0m             \u001b[39m\"\u001b[39m\u001b[39mPassing a \u001b[39m\u001b[39m'\u001b[39m\u001b[39mhint\u001b[39m\u001b[39m'\u001b[39m\u001b[39m is required when using the min/max query\u001b[39m\u001b[39m\"\u001b[39m\n\u001b[1;32m   1145\u001b[0m             \u001b[39m\"\u001b[39m\u001b[39m option to ensure the query utilizes the correct index\u001b[39m\u001b[39m\"\u001b[39m\n\u001b[1;32m   1146\u001b[0m         )\n\u001b[1;32m   1147\u001b[0m     q \u001b[39m=\u001b[39m \u001b[39mself\u001b[39m\u001b[39m.\u001b[39m_query_class(\n\u001b[1;32m   1148\u001b[0m         \u001b[39mself\u001b[39m\u001b[39m.\u001b[39m__query_flags,\n\u001b[1;32m   1149\u001b[0m         \u001b[39mself\u001b[39m\u001b[39m.\u001b[39m__collection\u001b[39m.\u001b[39mdatabase\u001b[39m.\u001b[39mname,\n\u001b[0;32m   (...)\u001b[0m\n\u001b[1;32m   1163\u001b[0m         \u001b[39mself\u001b[39m\u001b[39m.\u001b[39m__exhaust,\n\u001b[1;32m   1164\u001b[0m     )\n\u001b[0;32m-> 1165\u001b[0m     \u001b[39mself\u001b[39;49m\u001b[39m.\u001b[39;49m__send_message(q)\n\u001b[1;32m   1166\u001b[0m \u001b[39melif\u001b[39;00m \u001b[39mself\u001b[39m\u001b[39m.\u001b[39m__id:  \u001b[39m# Get More\u001b[39;00m\n\u001b[1;32m   1167\u001b[0m     \u001b[39mif\u001b[39;00m \u001b[39mself\u001b[39m\u001b[39m.\u001b[39m__limit:\n",
      "File \u001b[0;32m~/Tovchain/Report/venv/lib64/python3.10/site-packages/pymongo/cursor.py:1052\u001b[0m, in \u001b[0;36mCursor.__send_message\u001b[0;34m(self, operation)\u001b[0m\n\u001b[1;32m   1049\u001b[0m     \u001b[39mraise\u001b[39;00m InvalidOperation(\u001b[39m\"\u001b[39m\u001b[39mexhaust cursors do not support auto encryption\u001b[39m\u001b[39m\"\u001b[39m)\n\u001b[1;32m   1051\u001b[0m \u001b[39mtry\u001b[39;00m:\n\u001b[0;32m-> 1052\u001b[0m     response \u001b[39m=\u001b[39m client\u001b[39m.\u001b[39;49m_run_operation(\n\u001b[1;32m   1053\u001b[0m         operation, \u001b[39mself\u001b[39;49m\u001b[39m.\u001b[39;49m_unpack_response, address\u001b[39m=\u001b[39;49m\u001b[39mself\u001b[39;49m\u001b[39m.\u001b[39;49m__address\n\u001b[1;32m   1054\u001b[0m     )\n\u001b[1;32m   1055\u001b[0m \u001b[39mexcept\u001b[39;00m OperationFailure \u001b[39mas\u001b[39;00m exc:\n\u001b[1;32m   1056\u001b[0m     \u001b[39mif\u001b[39;00m exc\u001b[39m.\u001b[39mcode \u001b[39min\u001b[39;00m _CURSOR_CLOSED_ERRORS \u001b[39mor\u001b[39;00m \u001b[39mself\u001b[39m\u001b[39m.\u001b[39m__exhaust:\n\u001b[1;32m   1057\u001b[0m         \u001b[39m# Don't send killCursors because the cursor is already closed.\u001b[39;00m\n",
      "File \u001b[0;32m~/Tovchain/Report/venv/lib64/python3.10/site-packages/pymongo/_csot.py:105\u001b[0m, in \u001b[0;36mapply.<locals>.csot_wrapper\u001b[0;34m(self, *args, **kwargs)\u001b[0m\n\u001b[1;32m    103\u001b[0m         \u001b[39mwith\u001b[39;00m _TimeoutContext(timeout):\n\u001b[1;32m    104\u001b[0m             \u001b[39mreturn\u001b[39;00m func(\u001b[39mself\u001b[39m, \u001b[39m*\u001b[39margs, \u001b[39m*\u001b[39m\u001b[39m*\u001b[39mkwargs)\n\u001b[0;32m--> 105\u001b[0m \u001b[39mreturn\u001b[39;00m func(\u001b[39mself\u001b[39;49m, \u001b[39m*\u001b[39;49margs, \u001b[39m*\u001b[39;49m\u001b[39m*\u001b[39;49mkwargs)\n",
      "File \u001b[0;32m~/Tovchain/Report/venv/lib64/python3.10/site-packages/pymongo/mongo_client.py:1330\u001b[0m, in \u001b[0;36mMongoClient._run_operation\u001b[0;34m(self, operation, unpack_res, address)\u001b[0m\n\u001b[1;32m   1325\u001b[0m     operation\u001b[39m.\u001b[39mreset()  \u001b[39m# Reset op in case of retry.\u001b[39;00m\n\u001b[1;32m   1326\u001b[0m     \u001b[39mreturn\u001b[39;00m server\u001b[39m.\u001b[39mrun_operation(\n\u001b[1;32m   1327\u001b[0m         sock_info, operation, read_preference, \u001b[39mself\u001b[39m\u001b[39m.\u001b[39m_event_listeners, unpack_res\n\u001b[1;32m   1328\u001b[0m     )\n\u001b[0;32m-> 1330\u001b[0m \u001b[39mreturn\u001b[39;00m \u001b[39mself\u001b[39;49m\u001b[39m.\u001b[39;49m_retryable_read(\n\u001b[1;32m   1331\u001b[0m     _cmd,\n\u001b[1;32m   1332\u001b[0m     operation\u001b[39m.\u001b[39;49mread_preference,\n\u001b[1;32m   1333\u001b[0m     operation\u001b[39m.\u001b[39;49msession,\n\u001b[1;32m   1334\u001b[0m     address\u001b[39m=\u001b[39;49maddress,\n\u001b[1;32m   1335\u001b[0m     retryable\u001b[39m=\u001b[39;49m\u001b[39misinstance\u001b[39;49m(operation, message\u001b[39m.\u001b[39;49m_Query),\n\u001b[1;32m   1336\u001b[0m )\n",
      "File \u001b[0;32m~/Tovchain/Report/venv/lib64/python3.10/site-packages/pymongo/_csot.py:105\u001b[0m, in \u001b[0;36mapply.<locals>.csot_wrapper\u001b[0;34m(self, *args, **kwargs)\u001b[0m\n\u001b[1;32m    103\u001b[0m         \u001b[39mwith\u001b[39;00m _TimeoutContext(timeout):\n\u001b[1;32m    104\u001b[0m             \u001b[39mreturn\u001b[39;00m func(\u001b[39mself\u001b[39m, \u001b[39m*\u001b[39margs, \u001b[39m*\u001b[39m\u001b[39m*\u001b[39mkwargs)\n\u001b[0;32m--> 105\u001b[0m \u001b[39mreturn\u001b[39;00m func(\u001b[39mself\u001b[39;49m, \u001b[39m*\u001b[39;49margs, \u001b[39m*\u001b[39;49m\u001b[39m*\u001b[39;49mkwargs)\n",
      "File \u001b[0;32m~/Tovchain/Report/venv/lib64/python3.10/site-packages/pymongo/mongo_client.py:1448\u001b[0m, in \u001b[0;36mMongoClient._retryable_read\u001b[0;34m(self, func, read_pref, session, address, retryable)\u001b[0m\n\u001b[1;32m   1446\u001b[0m             \u001b[39massert\u001b[39;00m last_error \u001b[39mis\u001b[39;00m \u001b[39mnot\u001b[39;00m \u001b[39mNone\u001b[39;00m\n\u001b[1;32m   1447\u001b[0m             \u001b[39mraise\u001b[39;00m last_error\n\u001b[0;32m-> 1448\u001b[0m         \u001b[39mreturn\u001b[39;00m func(session, server, sock_info, read_pref)\n\u001b[1;32m   1449\u001b[0m \u001b[39mexcept\u001b[39;00m ServerSelectionTimeoutError:\n\u001b[1;32m   1450\u001b[0m     \u001b[39mif\u001b[39;00m retrying:\n\u001b[1;32m   1451\u001b[0m         \u001b[39m# The application may think the write was never attempted\u001b[39;00m\n\u001b[1;32m   1452\u001b[0m         \u001b[39m# if we raise ServerSelectionTimeoutError on the retry\u001b[39;00m\n\u001b[1;32m   1453\u001b[0m         \u001b[39m# attempt. Raise the original exception instead.\u001b[39;00m\n",
      "File \u001b[0;32m~/Tovchain/Report/venv/lib64/python3.10/site-packages/pymongo/mongo_client.py:1326\u001b[0m, in \u001b[0;36mMongoClient._run_operation.<locals>._cmd\u001b[0;34m(session, server, sock_info, read_preference)\u001b[0m\n\u001b[1;32m   1324\u001b[0m \u001b[39mdef\u001b[39;00m \u001b[39m_cmd\u001b[39m(session, server, sock_info, read_preference):\n\u001b[1;32m   1325\u001b[0m     operation\u001b[39m.\u001b[39mreset()  \u001b[39m# Reset op in case of retry.\u001b[39;00m\n\u001b[0;32m-> 1326\u001b[0m     \u001b[39mreturn\u001b[39;00m server\u001b[39m.\u001b[39;49mrun_operation(\n\u001b[1;32m   1327\u001b[0m         sock_info, operation, read_preference, \u001b[39mself\u001b[39;49m\u001b[39m.\u001b[39;49m_event_listeners, unpack_res\n\u001b[1;32m   1328\u001b[0m     )\n",
      "File \u001b[0;32m~/Tovchain/Report/venv/lib64/python3.10/site-packages/pymongo/server.py:115\u001b[0m, in \u001b[0;36mServer.run_operation\u001b[0;34m(self, sock_info, operation, read_preference, listeners, unpack_res)\u001b[0m\n\u001b[1;32m    113\u001b[0m \u001b[39melse\u001b[39;00m:\n\u001b[1;32m    114\u001b[0m     sock_info\u001b[39m.\u001b[39msend_message(data, max_doc_size)\n\u001b[0;32m--> 115\u001b[0m     reply \u001b[39m=\u001b[39m sock_info\u001b[39m.\u001b[39;49mreceive_message(request_id)\n\u001b[1;32m    117\u001b[0m \u001b[39m# Unpack and check for command errors.\u001b[39;00m\n\u001b[1;32m    118\u001b[0m \u001b[39mif\u001b[39;00m use_cmd:\n",
      "File \u001b[0;32m~/Tovchain/Report/venv/lib64/python3.10/site-packages/pymongo/pool.py:821\u001b[0m, in \u001b[0;36mSocketInfo.receive_message\u001b[0;34m(self, request_id)\u001b[0m\n\u001b[1;32m    819\u001b[0m     \u001b[39mreturn\u001b[39;00m receive_message(\u001b[39mself\u001b[39m, request_id, \u001b[39mself\u001b[39m\u001b[39m.\u001b[39mmax_message_size)\n\u001b[1;32m    820\u001b[0m \u001b[39mexcept\u001b[39;00m \u001b[39mBaseException\u001b[39;00m \u001b[39mas\u001b[39;00m error:\n\u001b[0;32m--> 821\u001b[0m     \u001b[39mself\u001b[39;49m\u001b[39m.\u001b[39;49m_raise_connection_failure(error)\n",
      "File \u001b[0;32m~/Tovchain/Report/venv/lib64/python3.10/site-packages/pymongo/pool.py:819\u001b[0m, in \u001b[0;36mSocketInfo.receive_message\u001b[0;34m(self, request_id)\u001b[0m\n\u001b[1;32m    814\u001b[0m \u001b[39m\u001b[39m\u001b[39m\"\"\"Receive a raw BSON message or raise ConnectionFailure.\u001b[39;00m\n\u001b[1;32m    815\u001b[0m \n\u001b[1;32m    816\u001b[0m \u001b[39mIf any exception is raised, the socket is closed.\u001b[39;00m\n\u001b[1;32m    817\u001b[0m \u001b[39m\"\"\"\u001b[39;00m\n\u001b[1;32m    818\u001b[0m \u001b[39mtry\u001b[39;00m:\n\u001b[0;32m--> 819\u001b[0m     \u001b[39mreturn\u001b[39;00m receive_message(\u001b[39mself\u001b[39;49m, request_id, \u001b[39mself\u001b[39;49m\u001b[39m.\u001b[39;49mmax_message_size)\n\u001b[1;32m    820\u001b[0m \u001b[39mexcept\u001b[39;00m \u001b[39mBaseException\u001b[39;00m \u001b[39mas\u001b[39;00m error:\n\u001b[1;32m    821\u001b[0m     \u001b[39mself\u001b[39m\u001b[39m.\u001b[39m_raise_connection_failure(error)\n",
      "File \u001b[0;32m~/Tovchain/Report/venv/lib64/python3.10/site-packages/pymongo/network.py:217\u001b[0m, in \u001b[0;36mreceive_message\u001b[0;34m(sock_info, request_id, max_message_size)\u001b[0m\n\u001b[1;32m    214\u001b[0m         deadline \u001b[39m=\u001b[39m \u001b[39mNone\u001b[39;00m\n\u001b[1;32m    215\u001b[0m \u001b[39m# Ignore the response's request id.\u001b[39;00m\n\u001b[1;32m    216\u001b[0m length, _, response_to, op_code \u001b[39m=\u001b[39m _UNPACK_HEADER(\n\u001b[0;32m--> 217\u001b[0m     _receive_data_on_socket(sock_info, \u001b[39m16\u001b[39;49m, deadline)\n\u001b[1;32m    218\u001b[0m )\n\u001b[1;32m    219\u001b[0m \u001b[39m# No request_id for exhaust cursor \"getMore\".\u001b[39;00m\n\u001b[1;32m    220\u001b[0m \u001b[39mif\u001b[39;00m request_id \u001b[39mis\u001b[39;00m \u001b[39mnot\u001b[39;00m \u001b[39mNone\u001b[39;00m:\n",
      "File \u001b[0;32m~/Tovchain/Report/venv/lib64/python3.10/site-packages/pymongo/network.py:299\u001b[0m, in \u001b[0;36m_receive_data_on_socket\u001b[0;34m(sock_info, length, deadline)\u001b[0m\n\u001b[1;32m    297\u001b[0m     \u001b[39mif\u001b[39;00m _csot\u001b[39m.\u001b[39mget_timeout():\n\u001b[1;32m    298\u001b[0m         sock_info\u001b[39m.\u001b[39mset_socket_timeout(\u001b[39mmax\u001b[39m(deadline \u001b[39m-\u001b[39m time\u001b[39m.\u001b[39mmonotonic(), \u001b[39m0\u001b[39m))\n\u001b[0;32m--> 299\u001b[0m     chunk_length \u001b[39m=\u001b[39m sock_info\u001b[39m.\u001b[39;49msock\u001b[39m.\u001b[39;49mrecv_into(mv[bytes_read:])\n\u001b[1;32m    300\u001b[0m \u001b[39mexcept\u001b[39;00m BLOCKING_IO_ERRORS:\n\u001b[1;32m    301\u001b[0m     \u001b[39mraise\u001b[39;00m socket\u001b[39m.\u001b[39mtimeout(\u001b[39m\"\u001b[39m\u001b[39mtimed out\u001b[39m\u001b[39m\"\u001b[39m)\n",
      "\u001b[0;31mKeyboardInterrupt\u001b[0m: "
     ]
    }
   ],
   "source": [
    "cexes_pairs = combinations(cexes, 2)\n",
    "addrs_set = set()\n",
    "for _pair in cexes_pairs:\n",
    "    _filter = {f\"depositedExchanges.{_pair[0]}\": {\"$exists\": 1}, \n",
    "               f\"depositedExchanges.{_pair[1]}\": {\"$exists\": 1}}\n",
    "    _projection = {\"address\": 1}\n",
    "    # _count = mongodb.count_wallets(_filter)\n",
    "    # print(f'{_pair}: {_count}')\n",
    "    data = mongodb.get_wallets(_filter)\n",
    "\n",
    "    for datum in data:\n",
    "        addr = datum['address']\n"
   ]
  },
  {
   "cell_type": "code",
   "execution_count": 3,
   "metadata": {},
   "outputs": [],
   "source": [
    "example_wallet = \"0x4c9df57276dc17dee5635ded208c07b0be32afd0\""
   ]
  },
  {
   "cell_type": "code",
   "execution_count": 9,
   "metadata": {},
   "outputs": [
    {
     "name": "stderr",
     "output_type": "stream",
     "text": [
      "[05-19-2023 01:27:58 +07] [DEBUG] [Time Execute] - DATABASE:BlockchainETL.get_all_transactions_from_1_to_n executed in 0.0s\n"
     ]
    },
    {
     "name": "stdout",
     "output_type": "stream",
     "text": [
      "CEX 1\n"
     ]
    },
    {
     "ename": "KeyboardInterrupt",
     "evalue": "",
     "output_type": "error",
     "traceback": [
      "\u001b[0;31m---------------------------------------------------------------------------\u001b[0m",
      "\u001b[0;31mKeyboardInterrupt\u001b[0m                         Traceback (most recent call last)",
      "Cell \u001b[0;32mIn[9], line 7\u001b[0m\n\u001b[1;32m      5\u001b[0m binance_wallets \u001b[39m=\u001b[39m cex_hot_wallets\u001b[39m.\u001b[39mget(\u001b[39m'\u001b[39m\u001b[39mbinance\u001b[39m\u001b[39m'\u001b[39m)\u001b[39m.\u001b[39mget(\u001b[39m'\u001b[39m\u001b[39mwallets\u001b[39m\u001b[39m'\u001b[39m)\u001b[39m.\u001b[39mget(chain_id)\n\u001b[1;32m      6\u001b[0m transactions \u001b[39m=\u001b[39m blockchain_etl\u001b[39m.\u001b[39mget_all_transactions_from_1_to_n(from_address\u001b[39m=\u001b[39mexample_wallet, to_addresses\u001b[39m=\u001b[39mbinance_wallets)\n\u001b[0;32m----> 7\u001b[0m transfers \u001b[39m=\u001b[39m postgres\u001b[39m.\u001b[39;49mget_all_transfers_from_1_to_n(from_address\u001b[39m=\u001b[39;49mexample_wallet, to_addresses\u001b[39m=\u001b[39;49mbinance_wallets)\n\u001b[1;32m      8\u001b[0m \u001b[39mfor\u001b[39;00m tx \u001b[39min\u001b[39;00m transactions:\n\u001b[1;32m      9\u001b[0m     \u001b[39mprint\u001b[39m(tx)\n",
      "File \u001b[0;32m~/Tovchain/Report/utils/time_execute_decorator.py:34\u001b[0m, in \u001b[0;36msync_log_time_exe.<locals>.decorator.<locals>.wrapper\u001b[0;34m(*args, **kwargs)\u001b[0m\n\u001b[1;32m     31\u001b[0m \u001b[39m@wraps\u001b[39m(fn)\n\u001b[1;32m     32\u001b[0m \u001b[39mdef\u001b[39;00m \u001b[39mwrapper\u001b[39m(\u001b[39m*\u001b[39margs, \u001b[39m*\u001b[39m\u001b[39m*\u001b[39mkwargs):\n\u001b[1;32m     33\u001b[0m     start_time \u001b[39m=\u001b[39m time\u001b[39m.\u001b[39mtime()\n\u001b[0;32m---> 34\u001b[0m     response \u001b[39m=\u001b[39m fn(\u001b[39m*\u001b[39;49margs, \u001b[39m*\u001b[39;49m\u001b[39m*\u001b[39;49mkwargs)\n\u001b[1;32m     35\u001b[0m     \u001b[39mif\u001b[39;00m fn\u001b[39m.\u001b[39m\u001b[39m__qualname__\u001b[39m:\n\u001b[1;32m     36\u001b[0m         logger\u001b[39m.\u001b[39mdebug(\u001b[39mf\u001b[39m\u001b[39m'\u001b[39m\u001b[39m{\u001b[39;00mtag\u001b[39m}\u001b[39;00m\u001b[39m:\u001b[39m\u001b[39m{\u001b[39;00mfn\u001b[39m.\u001b[39m\u001b[39m__qualname__\u001b[39m\u001b[39m}\u001b[39;00m\u001b[39m executed in \u001b[39m\u001b[39m{\u001b[39;00m\u001b[39mround\u001b[39m(time\u001b[39m.\u001b[39mtime()\u001b[39m \u001b[39m\u001b[39m-\u001b[39m\u001b[39m \u001b[39mstart_time,\u001b[39m \u001b[39m\u001b[39m3\u001b[39m)\u001b[39m}\u001b[39;00m\u001b[39ms\u001b[39m\u001b[39m'\u001b[39m)\n",
      "File \u001b[0;32m~/Tovchain/Report/databases/postgresql.py:74\u001b[0m, in \u001b[0;36mPostgresDB.get_all_transfers_from_1_to_n\u001b[0;34m(self, from_address, to_addresses)\u001b[0m\n\u001b[1;32m     66\u001b[0m \u001b[39m@sync_log_time_exe\u001b[39m(tag\u001b[39m=\u001b[39mTimeExeTag\u001b[39m.\u001b[39mdatabase)\n\u001b[1;32m     67\u001b[0m \u001b[39mdef\u001b[39;00m \u001b[39mget_all_transfers_from_1_to_n\u001b[39m(\u001b[39mself\u001b[39m, from_address, to_addresses):\n\u001b[1;32m     68\u001b[0m     query \u001b[39m=\u001b[39m \u001b[39mf\u001b[39m\u001b[39m\"\"\"\u001b[39m\n\u001b[1;32m     69\u001b[0m \u001b[39m        SELECT transaction_hash, to_address\u001b[39m\n\u001b[1;32m     70\u001b[0m \u001b[39m        FROM \u001b[39m\u001b[39m{\u001b[39;00mPostgresDBConfig\u001b[39m.\u001b[39mSCHEMA\u001b[39m}\u001b[39;00m\u001b[39m.\u001b[39m\u001b[39m{\u001b[39;00mPostgresDBConfig\u001b[39m.\u001b[39mTRANSFER_EVENT_TABLE\u001b[39m}\u001b[39;00m\n\u001b[1;32m     71\u001b[0m \u001b[39m        WHERE from_address = \u001b[39m\u001b[39m'\u001b[39m\u001b[39m{\u001b[39;00mfrom_address\u001b[39m}\u001b[39;00m\u001b[39m'\u001b[39m\n\u001b[1;32m     72\u001b[0m \u001b[39m        AND to_address = ANY (ARRAY\u001b[39m\u001b[39m{\u001b[39;00mto_addresses\u001b[39m}\u001b[39;00m\u001b[39m)\u001b[39m\n\u001b[1;32m     73\u001b[0m \u001b[39m    \u001b[39m\u001b[39m\"\"\"\u001b[39m\n\u001b[0;32m---> 74\u001b[0m     event_transfer \u001b[39m=\u001b[39m \u001b[39mself\u001b[39;49m\u001b[39m.\u001b[39;49msession\u001b[39m.\u001b[39;49mexecute(text(query))\u001b[39m.\u001b[39mall()\n\u001b[1;32m     75\u001b[0m     \u001b[39mreturn\u001b[39;00m event_transfer\n",
      "File \u001b[0;32m~/Tovchain/Report/venv/lib64/python3.10/site-packages/sqlalchemy/orm/session.py:2232\u001b[0m, in \u001b[0;36mSession.execute\u001b[0;34m(self, statement, params, execution_options, bind_arguments, _parent_execute_state, _add_event)\u001b[0m\n\u001b[1;32m   2171\u001b[0m \u001b[39mdef\u001b[39;00m \u001b[39mexecute\u001b[39m(\n\u001b[1;32m   2172\u001b[0m     \u001b[39mself\u001b[39m,\n\u001b[1;32m   2173\u001b[0m     statement: Executable,\n\u001b[0;32m   (...)\u001b[0m\n\u001b[1;32m   2179\u001b[0m     _add_event: Optional[Any] \u001b[39m=\u001b[39m \u001b[39mNone\u001b[39;00m,\n\u001b[1;32m   2180\u001b[0m ) \u001b[39m-\u001b[39m\u001b[39m>\u001b[39m Result[Any]:\n\u001b[1;32m   2181\u001b[0m \u001b[39m    \u001b[39m\u001b[39mr\u001b[39m\u001b[39m\"\"\"Execute a SQL expression construct.\u001b[39;00m\n\u001b[1;32m   2182\u001b[0m \n\u001b[1;32m   2183\u001b[0m \u001b[39m    Returns a :class:`_engine.Result` object representing\u001b[39;00m\n\u001b[0;32m   (...)\u001b[0m\n\u001b[1;32m   2230\u001b[0m \n\u001b[1;32m   2231\u001b[0m \u001b[39m    \"\"\"\u001b[39;00m\n\u001b[0;32m-> 2232\u001b[0m     \u001b[39mreturn\u001b[39;00m \u001b[39mself\u001b[39;49m\u001b[39m.\u001b[39;49m_execute_internal(\n\u001b[1;32m   2233\u001b[0m         statement,\n\u001b[1;32m   2234\u001b[0m         params,\n\u001b[1;32m   2235\u001b[0m         execution_options\u001b[39m=\u001b[39;49mexecution_options,\n\u001b[1;32m   2236\u001b[0m         bind_arguments\u001b[39m=\u001b[39;49mbind_arguments,\n\u001b[1;32m   2237\u001b[0m         _parent_execute_state\u001b[39m=\u001b[39;49m_parent_execute_state,\n\u001b[1;32m   2238\u001b[0m         _add_event\u001b[39m=\u001b[39;49m_add_event,\n\u001b[1;32m   2239\u001b[0m     )\n",
      "File \u001b[0;32m~/Tovchain/Report/venv/lib64/python3.10/site-packages/sqlalchemy/orm/session.py:2136\u001b[0m, in \u001b[0;36mSession._execute_internal\u001b[0;34m(self, statement, params, execution_options, bind_arguments, _parent_execute_state, _add_event, _scalar_result)\u001b[0m\n\u001b[1;32m   2127\u001b[0m     result: Result[Any] \u001b[39m=\u001b[39m compile_state_cls\u001b[39m.\u001b[39morm_execute_statement(\n\u001b[1;32m   2128\u001b[0m         \u001b[39mself\u001b[39m,\n\u001b[1;32m   2129\u001b[0m         statement,\n\u001b[0;32m   (...)\u001b[0m\n\u001b[1;32m   2133\u001b[0m         conn,\n\u001b[1;32m   2134\u001b[0m     )\n\u001b[1;32m   2135\u001b[0m \u001b[39melse\u001b[39;00m:\n\u001b[0;32m-> 2136\u001b[0m     result \u001b[39m=\u001b[39m conn\u001b[39m.\u001b[39;49mexecute(\n\u001b[1;32m   2137\u001b[0m         statement, params \u001b[39mor\u001b[39;49;00m {}, execution_options\u001b[39m=\u001b[39;49mexecution_options\n\u001b[1;32m   2138\u001b[0m     )\n\u001b[1;32m   2140\u001b[0m \u001b[39mif\u001b[39;00m _scalar_result:\n\u001b[1;32m   2141\u001b[0m     \u001b[39mreturn\u001b[39;00m result\u001b[39m.\u001b[39mscalar()\n",
      "File \u001b[0;32m~/Tovchain/Report/venv/lib64/python3.10/site-packages/sqlalchemy/engine/base.py:1413\u001b[0m, in \u001b[0;36mConnection.execute\u001b[0;34m(self, statement, parameters, execution_options)\u001b[0m\n\u001b[1;32m   1411\u001b[0m     \u001b[39mraise\u001b[39;00m exc\u001b[39m.\u001b[39mObjectNotExecutableError(statement) \u001b[39mfrom\u001b[39;00m \u001b[39merr\u001b[39;00m\n\u001b[1;32m   1412\u001b[0m \u001b[39melse\u001b[39;00m:\n\u001b[0;32m-> 1413\u001b[0m     \u001b[39mreturn\u001b[39;00m meth(\n\u001b[1;32m   1414\u001b[0m         \u001b[39mself\u001b[39;49m,\n\u001b[1;32m   1415\u001b[0m         distilled_parameters,\n\u001b[1;32m   1416\u001b[0m         execution_options \u001b[39mor\u001b[39;49;00m NO_OPTIONS,\n\u001b[1;32m   1417\u001b[0m     )\n",
      "File \u001b[0;32m~/Tovchain/Report/venv/lib64/python3.10/site-packages/sqlalchemy/sql/elements.py:483\u001b[0m, in \u001b[0;36mClauseElement._execute_on_connection\u001b[0;34m(self, connection, distilled_params, execution_options)\u001b[0m\n\u001b[1;32m    481\u001b[0m     \u001b[39mif\u001b[39;00m TYPE_CHECKING:\n\u001b[1;32m    482\u001b[0m         \u001b[39massert\u001b[39;00m \u001b[39misinstance\u001b[39m(\u001b[39mself\u001b[39m, Executable)\n\u001b[0;32m--> 483\u001b[0m     \u001b[39mreturn\u001b[39;00m connection\u001b[39m.\u001b[39;49m_execute_clauseelement(\n\u001b[1;32m    484\u001b[0m         \u001b[39mself\u001b[39;49m, distilled_params, execution_options\n\u001b[1;32m    485\u001b[0m     )\n\u001b[1;32m    486\u001b[0m \u001b[39melse\u001b[39;00m:\n\u001b[1;32m    487\u001b[0m     \u001b[39mraise\u001b[39;00m exc\u001b[39m.\u001b[39mObjectNotExecutableError(\u001b[39mself\u001b[39m)\n",
      "File \u001b[0;32m~/Tovchain/Report/venv/lib64/python3.10/site-packages/sqlalchemy/engine/base.py:1637\u001b[0m, in \u001b[0;36mConnection._execute_clauseelement\u001b[0;34m(self, elem, distilled_parameters, execution_options)\u001b[0m\n\u001b[1;32m   1625\u001b[0m compiled_cache: Optional[CompiledCacheType] \u001b[39m=\u001b[39m execution_options\u001b[39m.\u001b[39mget(\n\u001b[1;32m   1626\u001b[0m     \u001b[39m\"\u001b[39m\u001b[39mcompiled_cache\u001b[39m\u001b[39m\"\u001b[39m, \u001b[39mself\u001b[39m\u001b[39m.\u001b[39mengine\u001b[39m.\u001b[39m_compiled_cache\n\u001b[1;32m   1627\u001b[0m )\n\u001b[1;32m   1629\u001b[0m compiled_sql, extracted_params, cache_hit \u001b[39m=\u001b[39m elem\u001b[39m.\u001b[39m_compile_w_cache(\n\u001b[1;32m   1630\u001b[0m     dialect\u001b[39m=\u001b[39mdialect,\n\u001b[1;32m   1631\u001b[0m     compiled_cache\u001b[39m=\u001b[39mcompiled_cache,\n\u001b[0;32m   (...)\u001b[0m\n\u001b[1;32m   1635\u001b[0m     linting\u001b[39m=\u001b[39m\u001b[39mself\u001b[39m\u001b[39m.\u001b[39mdialect\u001b[39m.\u001b[39mcompiler_linting \u001b[39m|\u001b[39m compiler\u001b[39m.\u001b[39mWARN_LINTING,\n\u001b[1;32m   1636\u001b[0m )\n\u001b[0;32m-> 1637\u001b[0m ret \u001b[39m=\u001b[39m \u001b[39mself\u001b[39;49m\u001b[39m.\u001b[39;49m_execute_context(\n\u001b[1;32m   1638\u001b[0m     dialect,\n\u001b[1;32m   1639\u001b[0m     dialect\u001b[39m.\u001b[39;49mexecution_ctx_cls\u001b[39m.\u001b[39;49m_init_compiled,\n\u001b[1;32m   1640\u001b[0m     compiled_sql,\n\u001b[1;32m   1641\u001b[0m     distilled_parameters,\n\u001b[1;32m   1642\u001b[0m     execution_options,\n\u001b[1;32m   1643\u001b[0m     compiled_sql,\n\u001b[1;32m   1644\u001b[0m     distilled_parameters,\n\u001b[1;32m   1645\u001b[0m     elem,\n\u001b[1;32m   1646\u001b[0m     extracted_params,\n\u001b[1;32m   1647\u001b[0m     cache_hit\u001b[39m=\u001b[39;49mcache_hit,\n\u001b[1;32m   1648\u001b[0m )\n\u001b[1;32m   1649\u001b[0m \u001b[39mif\u001b[39;00m has_events:\n\u001b[1;32m   1650\u001b[0m     \u001b[39mself\u001b[39m\u001b[39m.\u001b[39mdispatch\u001b[39m.\u001b[39mafter_execute(\n\u001b[1;32m   1651\u001b[0m         \u001b[39mself\u001b[39m,\n\u001b[1;32m   1652\u001b[0m         elem,\n\u001b[0;32m   (...)\u001b[0m\n\u001b[1;32m   1656\u001b[0m         ret,\n\u001b[1;32m   1657\u001b[0m     )\n",
      "File \u001b[0;32m~/Tovchain/Report/venv/lib64/python3.10/site-packages/sqlalchemy/engine/base.py:1841\u001b[0m, in \u001b[0;36mConnection._execute_context\u001b[0;34m(self, dialect, constructor, statement, parameters, execution_options, *args, **kw)\u001b[0m\n\u001b[1;32m   1836\u001b[0m     \u001b[39mreturn\u001b[39;00m \u001b[39mself\u001b[39m\u001b[39m.\u001b[39m_exec_insertmany_context(\n\u001b[1;32m   1837\u001b[0m         dialect,\n\u001b[1;32m   1838\u001b[0m         context,\n\u001b[1;32m   1839\u001b[0m     )\n\u001b[1;32m   1840\u001b[0m \u001b[39melse\u001b[39;00m:\n\u001b[0;32m-> 1841\u001b[0m     \u001b[39mreturn\u001b[39;00m \u001b[39mself\u001b[39;49m\u001b[39m.\u001b[39;49m_exec_single_context(\n\u001b[1;32m   1842\u001b[0m         dialect, context, statement, parameters\n\u001b[1;32m   1843\u001b[0m     )\n",
      "File \u001b[0;32m~/Tovchain/Report/venv/lib64/python3.10/site-packages/sqlalchemy/engine/base.py:1982\u001b[0m, in \u001b[0;36mConnection._exec_single_context\u001b[0;34m(self, dialect, context, statement, parameters)\u001b[0m\n\u001b[1;32m   1979\u001b[0m     result \u001b[39m=\u001b[39m context\u001b[39m.\u001b[39m_setup_result_proxy()\n\u001b[1;32m   1981\u001b[0m \u001b[39mexcept\u001b[39;00m \u001b[39mBaseException\u001b[39;00m \u001b[39mas\u001b[39;00m e:\n\u001b[0;32m-> 1982\u001b[0m     \u001b[39mself\u001b[39;49m\u001b[39m.\u001b[39;49m_handle_dbapi_exception(\n\u001b[1;32m   1983\u001b[0m         e, str_statement, effective_parameters, cursor, context\n\u001b[1;32m   1984\u001b[0m     )\n\u001b[1;32m   1986\u001b[0m \u001b[39mreturn\u001b[39;00m result\n",
      "File \u001b[0;32m~/Tovchain/Report/venv/lib64/python3.10/site-packages/sqlalchemy/engine/base.py:2342\u001b[0m, in \u001b[0;36mConnection._handle_dbapi_exception\u001b[0;34m(self, e, statement, parameters, cursor, context, is_sub_exec)\u001b[0m\n\u001b[1;32m   2340\u001b[0m     \u001b[39melse\u001b[39;00m:\n\u001b[1;32m   2341\u001b[0m         \u001b[39massert\u001b[39;00m exc_info[\u001b[39m1\u001b[39m] \u001b[39mis\u001b[39;00m \u001b[39mnot\u001b[39;00m \u001b[39mNone\u001b[39;00m\n\u001b[0;32m-> 2342\u001b[0m         \u001b[39mraise\u001b[39;00m exc_info[\u001b[39m1\u001b[39m]\u001b[39m.\u001b[39mwith_traceback(exc_info[\u001b[39m2\u001b[39m])\n\u001b[1;32m   2343\u001b[0m \u001b[39mfinally\u001b[39;00m:\n\u001b[1;32m   2344\u001b[0m     \u001b[39mdel\u001b[39;00m \u001b[39mself\u001b[39m\u001b[39m.\u001b[39m_reentrant_error\n",
      "File \u001b[0;32m~/Tovchain/Report/venv/lib64/python3.10/site-packages/sqlalchemy/engine/base.py:1963\u001b[0m, in \u001b[0;36mConnection._exec_single_context\u001b[0;34m(self, dialect, context, statement, parameters)\u001b[0m\n\u001b[1;32m   1961\u001b[0m                 \u001b[39mbreak\u001b[39;00m\n\u001b[1;32m   1962\u001b[0m     \u001b[39mif\u001b[39;00m \u001b[39mnot\u001b[39;00m evt_handled:\n\u001b[0;32m-> 1963\u001b[0m         \u001b[39mself\u001b[39;49m\u001b[39m.\u001b[39;49mdialect\u001b[39m.\u001b[39;49mdo_execute(\n\u001b[1;32m   1964\u001b[0m             cursor, str_statement, effective_parameters, context\n\u001b[1;32m   1965\u001b[0m         )\n\u001b[1;32m   1967\u001b[0m \u001b[39mif\u001b[39;00m \u001b[39mself\u001b[39m\u001b[39m.\u001b[39m_has_events \u001b[39mor\u001b[39;00m \u001b[39mself\u001b[39m\u001b[39m.\u001b[39mengine\u001b[39m.\u001b[39m_has_events:\n\u001b[1;32m   1968\u001b[0m     \u001b[39mself\u001b[39m\u001b[39m.\u001b[39mdispatch\u001b[39m.\u001b[39mafter_cursor_execute(\n\u001b[1;32m   1969\u001b[0m         \u001b[39mself\u001b[39m,\n\u001b[1;32m   1970\u001b[0m         cursor,\n\u001b[0;32m   (...)\u001b[0m\n\u001b[1;32m   1974\u001b[0m         context\u001b[39m.\u001b[39mexecutemany,\n\u001b[1;32m   1975\u001b[0m     )\n",
      "File \u001b[0;32m~/Tovchain/Report/venv/lib64/python3.10/site-packages/sqlalchemy/engine/default.py:920\u001b[0m, in \u001b[0;36mDefaultDialect.do_execute\u001b[0;34m(self, cursor, statement, parameters, context)\u001b[0m\n\u001b[1;32m    919\u001b[0m \u001b[39mdef\u001b[39;00m \u001b[39mdo_execute\u001b[39m(\u001b[39mself\u001b[39m, cursor, statement, parameters, context\u001b[39m=\u001b[39m\u001b[39mNone\u001b[39;00m):\n\u001b[0;32m--> 920\u001b[0m     cursor\u001b[39m.\u001b[39;49mexecute(statement, parameters)\n",
      "File \u001b[0;32m/usr/lib64/python3.10/encodings/utf_8.py:15\u001b[0m, in \u001b[0;36mdecode\u001b[0;34m(input, errors)\u001b[0m\n\u001b[1;32m     11\u001b[0m \u001b[39m### Codec APIs\u001b[39;00m\n\u001b[1;32m     13\u001b[0m encode \u001b[39m=\u001b[39m codecs\u001b[39m.\u001b[39mutf_8_encode\n\u001b[0;32m---> 15\u001b[0m \u001b[39mdef\u001b[39;00m \u001b[39mdecode\u001b[39m(\u001b[39minput\u001b[39m, errors\u001b[39m=\u001b[39m\u001b[39m'\u001b[39m\u001b[39mstrict\u001b[39m\u001b[39m'\u001b[39m):\n\u001b[1;32m     16\u001b[0m     \u001b[39mreturn\u001b[39;00m codecs\u001b[39m.\u001b[39mutf_8_decode(\u001b[39minput\u001b[39m, errors, \u001b[39mTrue\u001b[39;00m)\n\u001b[1;32m     18\u001b[0m \u001b[39mclass\u001b[39;00m \u001b[39mIncrementalEncoder\u001b[39;00m(codecs\u001b[39m.\u001b[39mIncrementalEncoder):\n",
      "\u001b[0;31mKeyboardInterrupt\u001b[0m: "
     ]
    }
   ],
   "source": [
    "chain_id = \"0x38\"\n",
    "cex = \"binance\"\n",
    "print(\"CEX 1\")\n",
    "binance_wallets = cex_hot_wallets.get(cex).get('wallets').get(chain_id)\n",
    "transactions = blockchain_etl.get_all_transactions_from_1_to_n(from_address=example_wallet, to_addresses=binance_wallets)\n",
    "transfers = postgres.get_all_transfers_from_1_to_n(from_address=example_wallet, to_addresses=binance_wallets)\n",
    "for tx in transactions:\n",
    "    print(tx)\n",
    "for t in transfers:\n",
    "    print(t)\n"
   ]
  },
  {
   "cell_type": "code",
   "execution_count": 6,
   "metadata": {},
   "outputs": [
    {
     "ename": "InternalError",
     "evalue": "(psycopg2.errors.InFailedSqlTransaction) current transaction is aborted, commands ignored until end of transaction block\n\n[SQL: \n            SELECT transaction_hash, to_address\n            FROM chain_0xfa.token_transfer\n            WHERE from_address = '0x4c9df57276dc17dee5635ded208c07b0be32afd0'\n            AND to_address = ANY (ARRAY['0x6262998ced04146fa42253a5c0af90ca02dfd2a3', '0x72a53cdbbcc1b9efa39c834a540550e23463aacb', '0x7758e507850da48cd47df1fb5f875c23e3340c50', '0xcffad3200574698b78f32232aa9d63eabd290703'])\n        ]\n(Background on this error at: https://sqlalche.me/e/20/2j85)",
     "output_type": "error",
     "traceback": [
      "\u001b[0;31m---------------------------------------------------------------------------\u001b[0m",
      "\u001b[0;31mInFailedSqlTransaction\u001b[0m                    Traceback (most recent call last)",
      "File \u001b[0;32m~/Tovchain/Report/venv/lib64/python3.10/site-packages/sqlalchemy/engine/base.py:1963\u001b[0m, in \u001b[0;36mConnection._exec_single_context\u001b[0;34m(self, dialect, context, statement, parameters)\u001b[0m\n\u001b[1;32m   1962\u001b[0m     \u001b[39mif\u001b[39;00m \u001b[39mnot\u001b[39;00m evt_handled:\n\u001b[0;32m-> 1963\u001b[0m         \u001b[39mself\u001b[39;49m\u001b[39m.\u001b[39;49mdialect\u001b[39m.\u001b[39;49mdo_execute(\n\u001b[1;32m   1964\u001b[0m             cursor, str_statement, effective_parameters, context\n\u001b[1;32m   1965\u001b[0m         )\n\u001b[1;32m   1967\u001b[0m \u001b[39mif\u001b[39;00m \u001b[39mself\u001b[39m\u001b[39m.\u001b[39m_has_events \u001b[39mor\u001b[39;00m \u001b[39mself\u001b[39m\u001b[39m.\u001b[39mengine\u001b[39m.\u001b[39m_has_events:\n",
      "File \u001b[0;32m~/Tovchain/Report/venv/lib64/python3.10/site-packages/sqlalchemy/engine/default.py:920\u001b[0m, in \u001b[0;36mDefaultDialect.do_execute\u001b[0;34m(self, cursor, statement, parameters, context)\u001b[0m\n\u001b[1;32m    919\u001b[0m \u001b[39mdef\u001b[39;00m \u001b[39mdo_execute\u001b[39m(\u001b[39mself\u001b[39m, cursor, statement, parameters, context\u001b[39m=\u001b[39m\u001b[39mNone\u001b[39;00m):\n\u001b[0;32m--> 920\u001b[0m     cursor\u001b[39m.\u001b[39;49mexecute(statement, parameters)\n",
      "\u001b[0;31mInFailedSqlTransaction\u001b[0m: current transaction is aborted, commands ignored until end of transaction block\n",
      "\nThe above exception was the direct cause of the following exception:\n",
      "\u001b[0;31mInternalError\u001b[0m                             Traceback (most recent call last)",
      "Cell \u001b[0;32mIn[6], line 5\u001b[0m\n\u001b[1;32m      3\u001b[0m hot_wallets \u001b[39m=\u001b[39m cex_hot_wallets\u001b[39m.\u001b[39mget(cex)\u001b[39m.\u001b[39mget(\u001b[39m'\u001b[39m\u001b[39mwallets\u001b[39m\u001b[39m'\u001b[39m)\u001b[39m.\u001b[39mget(chain_id)\n\u001b[1;32m      4\u001b[0m \u001b[39m# transactions = BlockchainETL(db_prefix='ftm').get_all_transactions_from_1_to_n(from_address=example_wallet, to_addresses=hot_wallets)\u001b[39;00m\n\u001b[0;32m----> 5\u001b[0m transfers \u001b[39m=\u001b[39m postgres\u001b[39m.\u001b[39;49mget_all_transfers_from_1_to_n(from_address\u001b[39m=\u001b[39;49mexample_wallet, to_addresses\u001b[39m=\u001b[39;49mhot_wallets)\n\u001b[1;32m      6\u001b[0m \u001b[39mfor\u001b[39;00m tx \u001b[39min\u001b[39;00m transactions:\n\u001b[1;32m      7\u001b[0m     \u001b[39mprint\u001b[39m(tx)\n",
      "File \u001b[0;32m~/Tovchain/Report/utils/time_execute_decorator.py:34\u001b[0m, in \u001b[0;36msync_log_time_exe.<locals>.decorator.<locals>.wrapper\u001b[0;34m(*args, **kwargs)\u001b[0m\n\u001b[1;32m     31\u001b[0m \u001b[39m@wraps\u001b[39m(fn)\n\u001b[1;32m     32\u001b[0m \u001b[39mdef\u001b[39;00m \u001b[39mwrapper\u001b[39m(\u001b[39m*\u001b[39margs, \u001b[39m*\u001b[39m\u001b[39m*\u001b[39mkwargs):\n\u001b[1;32m     33\u001b[0m     start_time \u001b[39m=\u001b[39m time\u001b[39m.\u001b[39mtime()\n\u001b[0;32m---> 34\u001b[0m     response \u001b[39m=\u001b[39m fn(\u001b[39m*\u001b[39;49margs, \u001b[39m*\u001b[39;49m\u001b[39m*\u001b[39;49mkwargs)\n\u001b[1;32m     35\u001b[0m     \u001b[39mif\u001b[39;00m fn\u001b[39m.\u001b[39m\u001b[39m__qualname__\u001b[39m:\n\u001b[1;32m     36\u001b[0m         logger\u001b[39m.\u001b[39mdebug(\u001b[39mf\u001b[39m\u001b[39m'\u001b[39m\u001b[39m{\u001b[39;00mtag\u001b[39m}\u001b[39;00m\u001b[39m:\u001b[39m\u001b[39m{\u001b[39;00mfn\u001b[39m.\u001b[39m\u001b[39m__qualname__\u001b[39m\u001b[39m}\u001b[39;00m\u001b[39m executed in \u001b[39m\u001b[39m{\u001b[39;00m\u001b[39mround\u001b[39m(time\u001b[39m.\u001b[39mtime()\u001b[39m \u001b[39m\u001b[39m-\u001b[39m\u001b[39m \u001b[39mstart_time,\u001b[39m \u001b[39m\u001b[39m3\u001b[39m)\u001b[39m}\u001b[39;00m\u001b[39ms\u001b[39m\u001b[39m'\u001b[39m)\n",
      "File \u001b[0;32m~/Tovchain/Report/databases/postgresql.py:74\u001b[0m, in \u001b[0;36mPostgresDB.get_all_transfers_from_1_to_n\u001b[0;34m(self, from_address, to_addresses)\u001b[0m\n\u001b[1;32m     66\u001b[0m \u001b[39m@sync_log_time_exe\u001b[39m(tag\u001b[39m=\u001b[39mTimeExeTag\u001b[39m.\u001b[39mdatabase)\n\u001b[1;32m     67\u001b[0m \u001b[39mdef\u001b[39;00m \u001b[39mget_all_transfers_from_1_to_n\u001b[39m(\u001b[39mself\u001b[39m, from_address, to_addresses):\n\u001b[1;32m     68\u001b[0m     query \u001b[39m=\u001b[39m \u001b[39mf\u001b[39m\u001b[39m\"\"\"\u001b[39m\n\u001b[1;32m     69\u001b[0m \u001b[39m        SELECT transaction_hash, to_address\u001b[39m\n\u001b[1;32m     70\u001b[0m \u001b[39m        FROM \u001b[39m\u001b[39m{\u001b[39;00mPostgresDBConfig\u001b[39m.\u001b[39mSCHEMA\u001b[39m}\u001b[39;00m\u001b[39m.\u001b[39m\u001b[39m{\u001b[39;00mPostgresDBConfig\u001b[39m.\u001b[39mTRANSFER_EVENT_TABLE\u001b[39m}\u001b[39;00m\n\u001b[1;32m     71\u001b[0m \u001b[39m        WHERE from_address = \u001b[39m\u001b[39m'\u001b[39m\u001b[39m{\u001b[39;00mfrom_address\u001b[39m}\u001b[39;00m\u001b[39m'\u001b[39m\n\u001b[1;32m     72\u001b[0m \u001b[39m        AND to_address = ANY (ARRAY\u001b[39m\u001b[39m{\u001b[39;00mto_addresses\u001b[39m}\u001b[39;00m\u001b[39m)\u001b[39m\n\u001b[1;32m     73\u001b[0m \u001b[39m    \u001b[39m\u001b[39m\"\"\"\u001b[39m\n\u001b[0;32m---> 74\u001b[0m     event_transfer \u001b[39m=\u001b[39m \u001b[39mself\u001b[39;49m\u001b[39m.\u001b[39;49msession\u001b[39m.\u001b[39;49mexecute(text(query))\u001b[39m.\u001b[39mall()\n\u001b[1;32m     75\u001b[0m     \u001b[39mreturn\u001b[39;00m event_transfer\n",
      "File \u001b[0;32m~/Tovchain/Report/venv/lib64/python3.10/site-packages/sqlalchemy/orm/session.py:2232\u001b[0m, in \u001b[0;36mSession.execute\u001b[0;34m(self, statement, params, execution_options, bind_arguments, _parent_execute_state, _add_event)\u001b[0m\n\u001b[1;32m   2171\u001b[0m \u001b[39mdef\u001b[39;00m \u001b[39mexecute\u001b[39m(\n\u001b[1;32m   2172\u001b[0m     \u001b[39mself\u001b[39m,\n\u001b[1;32m   2173\u001b[0m     statement: Executable,\n\u001b[0;32m   (...)\u001b[0m\n\u001b[1;32m   2179\u001b[0m     _add_event: Optional[Any] \u001b[39m=\u001b[39m \u001b[39mNone\u001b[39;00m,\n\u001b[1;32m   2180\u001b[0m ) \u001b[39m-\u001b[39m\u001b[39m>\u001b[39m Result[Any]:\n\u001b[1;32m   2181\u001b[0m \u001b[39m    \u001b[39m\u001b[39mr\u001b[39m\u001b[39m\"\"\"Execute a SQL expression construct.\u001b[39;00m\n\u001b[1;32m   2182\u001b[0m \n\u001b[1;32m   2183\u001b[0m \u001b[39m    Returns a :class:`_engine.Result` object representing\u001b[39;00m\n\u001b[0;32m   (...)\u001b[0m\n\u001b[1;32m   2230\u001b[0m \n\u001b[1;32m   2231\u001b[0m \u001b[39m    \"\"\"\u001b[39;00m\n\u001b[0;32m-> 2232\u001b[0m     \u001b[39mreturn\u001b[39;00m \u001b[39mself\u001b[39;49m\u001b[39m.\u001b[39;49m_execute_internal(\n\u001b[1;32m   2233\u001b[0m         statement,\n\u001b[1;32m   2234\u001b[0m         params,\n\u001b[1;32m   2235\u001b[0m         execution_options\u001b[39m=\u001b[39;49mexecution_options,\n\u001b[1;32m   2236\u001b[0m         bind_arguments\u001b[39m=\u001b[39;49mbind_arguments,\n\u001b[1;32m   2237\u001b[0m         _parent_execute_state\u001b[39m=\u001b[39;49m_parent_execute_state,\n\u001b[1;32m   2238\u001b[0m         _add_event\u001b[39m=\u001b[39;49m_add_event,\n\u001b[1;32m   2239\u001b[0m     )\n",
      "File \u001b[0;32m~/Tovchain/Report/venv/lib64/python3.10/site-packages/sqlalchemy/orm/session.py:2136\u001b[0m, in \u001b[0;36mSession._execute_internal\u001b[0;34m(self, statement, params, execution_options, bind_arguments, _parent_execute_state, _add_event, _scalar_result)\u001b[0m\n\u001b[1;32m   2127\u001b[0m     result: Result[Any] \u001b[39m=\u001b[39m compile_state_cls\u001b[39m.\u001b[39morm_execute_statement(\n\u001b[1;32m   2128\u001b[0m         \u001b[39mself\u001b[39m,\n\u001b[1;32m   2129\u001b[0m         statement,\n\u001b[0;32m   (...)\u001b[0m\n\u001b[1;32m   2133\u001b[0m         conn,\n\u001b[1;32m   2134\u001b[0m     )\n\u001b[1;32m   2135\u001b[0m \u001b[39melse\u001b[39;00m:\n\u001b[0;32m-> 2136\u001b[0m     result \u001b[39m=\u001b[39m conn\u001b[39m.\u001b[39;49mexecute(\n\u001b[1;32m   2137\u001b[0m         statement, params \u001b[39mor\u001b[39;49;00m {}, execution_options\u001b[39m=\u001b[39;49mexecution_options\n\u001b[1;32m   2138\u001b[0m     )\n\u001b[1;32m   2140\u001b[0m \u001b[39mif\u001b[39;00m _scalar_result:\n\u001b[1;32m   2141\u001b[0m     \u001b[39mreturn\u001b[39;00m result\u001b[39m.\u001b[39mscalar()\n",
      "File \u001b[0;32m~/Tovchain/Report/venv/lib64/python3.10/site-packages/sqlalchemy/engine/base.py:1413\u001b[0m, in \u001b[0;36mConnection.execute\u001b[0;34m(self, statement, parameters, execution_options)\u001b[0m\n\u001b[1;32m   1411\u001b[0m     \u001b[39mraise\u001b[39;00m exc\u001b[39m.\u001b[39mObjectNotExecutableError(statement) \u001b[39mfrom\u001b[39;00m \u001b[39merr\u001b[39;00m\n\u001b[1;32m   1412\u001b[0m \u001b[39melse\u001b[39;00m:\n\u001b[0;32m-> 1413\u001b[0m     \u001b[39mreturn\u001b[39;00m meth(\n\u001b[1;32m   1414\u001b[0m         \u001b[39mself\u001b[39;49m,\n\u001b[1;32m   1415\u001b[0m         distilled_parameters,\n\u001b[1;32m   1416\u001b[0m         execution_options \u001b[39mor\u001b[39;49;00m NO_OPTIONS,\n\u001b[1;32m   1417\u001b[0m     )\n",
      "File \u001b[0;32m~/Tovchain/Report/venv/lib64/python3.10/site-packages/sqlalchemy/sql/elements.py:483\u001b[0m, in \u001b[0;36mClauseElement._execute_on_connection\u001b[0;34m(self, connection, distilled_params, execution_options)\u001b[0m\n\u001b[1;32m    481\u001b[0m     \u001b[39mif\u001b[39;00m TYPE_CHECKING:\n\u001b[1;32m    482\u001b[0m         \u001b[39massert\u001b[39;00m \u001b[39misinstance\u001b[39m(\u001b[39mself\u001b[39m, Executable)\n\u001b[0;32m--> 483\u001b[0m     \u001b[39mreturn\u001b[39;00m connection\u001b[39m.\u001b[39;49m_execute_clauseelement(\n\u001b[1;32m    484\u001b[0m         \u001b[39mself\u001b[39;49m, distilled_params, execution_options\n\u001b[1;32m    485\u001b[0m     )\n\u001b[1;32m    486\u001b[0m \u001b[39melse\u001b[39;00m:\n\u001b[1;32m    487\u001b[0m     \u001b[39mraise\u001b[39;00m exc\u001b[39m.\u001b[39mObjectNotExecutableError(\u001b[39mself\u001b[39m)\n",
      "File \u001b[0;32m~/Tovchain/Report/venv/lib64/python3.10/site-packages/sqlalchemy/engine/base.py:1637\u001b[0m, in \u001b[0;36mConnection._execute_clauseelement\u001b[0;34m(self, elem, distilled_parameters, execution_options)\u001b[0m\n\u001b[1;32m   1625\u001b[0m compiled_cache: Optional[CompiledCacheType] \u001b[39m=\u001b[39m execution_options\u001b[39m.\u001b[39mget(\n\u001b[1;32m   1626\u001b[0m     \u001b[39m\"\u001b[39m\u001b[39mcompiled_cache\u001b[39m\u001b[39m\"\u001b[39m, \u001b[39mself\u001b[39m\u001b[39m.\u001b[39mengine\u001b[39m.\u001b[39m_compiled_cache\n\u001b[1;32m   1627\u001b[0m )\n\u001b[1;32m   1629\u001b[0m compiled_sql, extracted_params, cache_hit \u001b[39m=\u001b[39m elem\u001b[39m.\u001b[39m_compile_w_cache(\n\u001b[1;32m   1630\u001b[0m     dialect\u001b[39m=\u001b[39mdialect,\n\u001b[1;32m   1631\u001b[0m     compiled_cache\u001b[39m=\u001b[39mcompiled_cache,\n\u001b[0;32m   (...)\u001b[0m\n\u001b[1;32m   1635\u001b[0m     linting\u001b[39m=\u001b[39m\u001b[39mself\u001b[39m\u001b[39m.\u001b[39mdialect\u001b[39m.\u001b[39mcompiler_linting \u001b[39m|\u001b[39m compiler\u001b[39m.\u001b[39mWARN_LINTING,\n\u001b[1;32m   1636\u001b[0m )\n\u001b[0;32m-> 1637\u001b[0m ret \u001b[39m=\u001b[39m \u001b[39mself\u001b[39;49m\u001b[39m.\u001b[39;49m_execute_context(\n\u001b[1;32m   1638\u001b[0m     dialect,\n\u001b[1;32m   1639\u001b[0m     dialect\u001b[39m.\u001b[39;49mexecution_ctx_cls\u001b[39m.\u001b[39;49m_init_compiled,\n\u001b[1;32m   1640\u001b[0m     compiled_sql,\n\u001b[1;32m   1641\u001b[0m     distilled_parameters,\n\u001b[1;32m   1642\u001b[0m     execution_options,\n\u001b[1;32m   1643\u001b[0m     compiled_sql,\n\u001b[1;32m   1644\u001b[0m     distilled_parameters,\n\u001b[1;32m   1645\u001b[0m     elem,\n\u001b[1;32m   1646\u001b[0m     extracted_params,\n\u001b[1;32m   1647\u001b[0m     cache_hit\u001b[39m=\u001b[39;49mcache_hit,\n\u001b[1;32m   1648\u001b[0m )\n\u001b[1;32m   1649\u001b[0m \u001b[39mif\u001b[39;00m has_events:\n\u001b[1;32m   1650\u001b[0m     \u001b[39mself\u001b[39m\u001b[39m.\u001b[39mdispatch\u001b[39m.\u001b[39mafter_execute(\n\u001b[1;32m   1651\u001b[0m         \u001b[39mself\u001b[39m,\n\u001b[1;32m   1652\u001b[0m         elem,\n\u001b[0;32m   (...)\u001b[0m\n\u001b[1;32m   1656\u001b[0m         ret,\n\u001b[1;32m   1657\u001b[0m     )\n",
      "File \u001b[0;32m~/Tovchain/Report/venv/lib64/python3.10/site-packages/sqlalchemy/engine/base.py:1841\u001b[0m, in \u001b[0;36mConnection._execute_context\u001b[0;34m(self, dialect, constructor, statement, parameters, execution_options, *args, **kw)\u001b[0m\n\u001b[1;32m   1836\u001b[0m     \u001b[39mreturn\u001b[39;00m \u001b[39mself\u001b[39m\u001b[39m.\u001b[39m_exec_insertmany_context(\n\u001b[1;32m   1837\u001b[0m         dialect,\n\u001b[1;32m   1838\u001b[0m         context,\n\u001b[1;32m   1839\u001b[0m     )\n\u001b[1;32m   1840\u001b[0m \u001b[39melse\u001b[39;00m:\n\u001b[0;32m-> 1841\u001b[0m     \u001b[39mreturn\u001b[39;00m \u001b[39mself\u001b[39;49m\u001b[39m.\u001b[39;49m_exec_single_context(\n\u001b[1;32m   1842\u001b[0m         dialect, context, statement, parameters\n\u001b[1;32m   1843\u001b[0m     )\n",
      "File \u001b[0;32m~/Tovchain/Report/venv/lib64/python3.10/site-packages/sqlalchemy/engine/base.py:1982\u001b[0m, in \u001b[0;36mConnection._exec_single_context\u001b[0;34m(self, dialect, context, statement, parameters)\u001b[0m\n\u001b[1;32m   1979\u001b[0m     result \u001b[39m=\u001b[39m context\u001b[39m.\u001b[39m_setup_result_proxy()\n\u001b[1;32m   1981\u001b[0m \u001b[39mexcept\u001b[39;00m \u001b[39mBaseException\u001b[39;00m \u001b[39mas\u001b[39;00m e:\n\u001b[0;32m-> 1982\u001b[0m     \u001b[39mself\u001b[39;49m\u001b[39m.\u001b[39;49m_handle_dbapi_exception(\n\u001b[1;32m   1983\u001b[0m         e, str_statement, effective_parameters, cursor, context\n\u001b[1;32m   1984\u001b[0m     )\n\u001b[1;32m   1986\u001b[0m \u001b[39mreturn\u001b[39;00m result\n",
      "File \u001b[0;32m~/Tovchain/Report/venv/lib64/python3.10/site-packages/sqlalchemy/engine/base.py:2339\u001b[0m, in \u001b[0;36mConnection._handle_dbapi_exception\u001b[0;34m(self, e, statement, parameters, cursor, context, is_sub_exec)\u001b[0m\n\u001b[1;32m   2337\u001b[0m \u001b[39melif\u001b[39;00m should_wrap:\n\u001b[1;32m   2338\u001b[0m     \u001b[39massert\u001b[39;00m sqlalchemy_exception \u001b[39mis\u001b[39;00m \u001b[39mnot\u001b[39;00m \u001b[39mNone\u001b[39;00m\n\u001b[0;32m-> 2339\u001b[0m     \u001b[39mraise\u001b[39;00m sqlalchemy_exception\u001b[39m.\u001b[39mwith_traceback(exc_info[\u001b[39m2\u001b[39m]) \u001b[39mfrom\u001b[39;00m \u001b[39me\u001b[39;00m\n\u001b[1;32m   2340\u001b[0m \u001b[39melse\u001b[39;00m:\n\u001b[1;32m   2341\u001b[0m     \u001b[39massert\u001b[39;00m exc_info[\u001b[39m1\u001b[39m] \u001b[39mis\u001b[39;00m \u001b[39mnot\u001b[39;00m \u001b[39mNone\u001b[39;00m\n",
      "File \u001b[0;32m~/Tovchain/Report/venv/lib64/python3.10/site-packages/sqlalchemy/engine/base.py:1963\u001b[0m, in \u001b[0;36mConnection._exec_single_context\u001b[0;34m(self, dialect, context, statement, parameters)\u001b[0m\n\u001b[1;32m   1961\u001b[0m                 \u001b[39mbreak\u001b[39;00m\n\u001b[1;32m   1962\u001b[0m     \u001b[39mif\u001b[39;00m \u001b[39mnot\u001b[39;00m evt_handled:\n\u001b[0;32m-> 1963\u001b[0m         \u001b[39mself\u001b[39;49m\u001b[39m.\u001b[39;49mdialect\u001b[39m.\u001b[39;49mdo_execute(\n\u001b[1;32m   1964\u001b[0m             cursor, str_statement, effective_parameters, context\n\u001b[1;32m   1965\u001b[0m         )\n\u001b[1;32m   1967\u001b[0m \u001b[39mif\u001b[39;00m \u001b[39mself\u001b[39m\u001b[39m.\u001b[39m_has_events \u001b[39mor\u001b[39;00m \u001b[39mself\u001b[39m\u001b[39m.\u001b[39mengine\u001b[39m.\u001b[39m_has_events:\n\u001b[1;32m   1968\u001b[0m     \u001b[39mself\u001b[39m\u001b[39m.\u001b[39mdispatch\u001b[39m.\u001b[39mafter_cursor_execute(\n\u001b[1;32m   1969\u001b[0m         \u001b[39mself\u001b[39m,\n\u001b[1;32m   1970\u001b[0m         cursor,\n\u001b[0;32m   (...)\u001b[0m\n\u001b[1;32m   1974\u001b[0m         context\u001b[39m.\u001b[39mexecutemany,\n\u001b[1;32m   1975\u001b[0m     )\n",
      "File \u001b[0;32m~/Tovchain/Report/venv/lib64/python3.10/site-packages/sqlalchemy/engine/default.py:920\u001b[0m, in \u001b[0;36mDefaultDialect.do_execute\u001b[0;34m(self, cursor, statement, parameters, context)\u001b[0m\n\u001b[1;32m    919\u001b[0m \u001b[39mdef\u001b[39;00m \u001b[39mdo_execute\u001b[39m(\u001b[39mself\u001b[39m, cursor, statement, parameters, context\u001b[39m=\u001b[39m\u001b[39mNone\u001b[39;00m):\n\u001b[0;32m--> 920\u001b[0m     cursor\u001b[39m.\u001b[39;49mexecute(statement, parameters)\n",
      "\u001b[0;31mInternalError\u001b[0m: (psycopg2.errors.InFailedSqlTransaction) current transaction is aborted, commands ignored until end of transaction block\n\n[SQL: \n            SELECT transaction_hash, to_address\n            FROM chain_0xfa.token_transfer\n            WHERE from_address = '0x4c9df57276dc17dee5635ded208c07b0be32afd0'\n            AND to_address = ANY (ARRAY['0x6262998ced04146fa42253a5c0af90ca02dfd2a3', '0x72a53cdbbcc1b9efa39c834a540550e23463aacb', '0x7758e507850da48cd47df1fb5f875c23e3340c50', '0xcffad3200574698b78f32232aa9d63eabd290703'])\n        ]\n(Background on this error at: https://sqlalche.me/e/20/2j85)"
     ]
    }
   ],
   "source": [
    "chain_id = \"0xfa\"\n",
    "cex = \"crypto-com-exchange\"\n",
    "hot_wallets = cex_hot_wallets.get(cex).get('wallets').get(chain_id)\n",
    "# transactions = BlockchainETL(db_prefix='ftm').get_all_transactions_from_1_to_n(from_address=example_wallet, to_addresses=hot_wallets)\n",
    "transfers = postgres.get_all_transfers_from_1_to_n(from_address=example_wallet, to_addresses=hot_wallets)\n",
    "for tx in transactions:\n",
    "    print(tx)\n",
    "for t in transfers:\n",
    "    print(t)"
   ]
  },
  {
   "attachments": {},
   "cell_type": "markdown",
   "metadata": {
    "collapsed": false
   },
   "source": [
    "## Dex Traders"
   ]
  },
  {
   "cell_type": "code",
   "execution_count": 3,
   "metadata": {
    "ExecuteTime": {
     "end_time": "2023-05-16T02:26:35.302782615Z",
     "start_time": "2023-05-16T02:26:35.281835652Z"
    },
    "collapsed": false
   },
   "outputs": [
    {
     "name": "stdout",
     "output_type": "stream",
     "text": [
      "pancakeswap: 18039\n",
      "spookyswap: 16275\n"
     ]
    }
   ],
   "source": [
    "c = MongoDB().count_deployed_chains_of_project('lendingpools', 'venus', '0x38')\n",
    "dexes = [\"pancakeswap\", \"spookyswap\"]\n",
    "for dex in dexes:\n",
    "    _filter = {f\"tradedlps.{dex}\": {\"$exists\": 1}}\n",
    "    print(f\"{dex}: {mongodb.count_wallets(_filter)}\")"
   ]
  }
 ],
 "metadata": {
  "kernelspec": {
   "display_name": "venv",
   "language": "python",
   "name": "venv"
  },
  "language_info": {
   "codemirror_mode": {
    "name": "ipython",
    "version": 3
   },
   "file_extension": ".py",
   "mimetype": "text/x-python",
   "name": "python",
   "nbconvert_exporter": "python",
   "pygments_lexer": "ipython3",
   "version": "3.10.10"
  }
 },
 "nbformat": 4,
 "nbformat_minor": 0
}
